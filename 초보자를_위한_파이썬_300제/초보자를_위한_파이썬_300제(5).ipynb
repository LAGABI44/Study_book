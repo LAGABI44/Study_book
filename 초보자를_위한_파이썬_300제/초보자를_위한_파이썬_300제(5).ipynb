{
  "nbformat": 4,
  "nbformat_minor": 0,
  "metadata": {
    "colab": {
      "name": "초보자를_위한_파이썬_300제(5).ipynb",
      "provenance": [],
      "authorship_tag": "ABX9TyPCVrmJ2ZDZuujEsD5cf8KV"
    },
    "kernelspec": {
      "name": "python3",
      "display_name": "Python 3"
    },
    "language_info": {
      "name": "python"
    }
  },
  "cells": [
    {
      "cell_type": "markdown",
      "source": [
        "# 11. 파이썬 클래스\n",
        "파이썬 클래스는 타입을 만들어내는 도구입니다.    \n",
        "int, float, str과 같이 여러분의 새로운 타입을 만들 수 있습니다.\n",
        "***"
      ],
      "metadata": {
        "id": "0bRpXksm7zJS"
      }
    },
    {
      "cell_type": "markdown",
      "source": [
        "### 251 클래스, 객체, 인스턴스\n",
        "클래스, 객체, 인스턴스에 대해 설명해봅시다."
      ],
      "metadata": {
        "id": "FbCLfrnY77Qw"
      }
    },
    {
      "cell_type": "code",
      "execution_count": null,
      "metadata": {
        "id": "3VUm2Qdu7t4r"
      },
      "outputs": [],
      "source": [
        "# 클래스 : 클래스는 특정 라이브러리가 모여있는 집단\n",
        "# 객체 : 클래스를 이루고 있는 집단\n",
        "# 인스턴스 : 가장 작은 단위로 객체를 이루고 있음, 메서드 등"
      ]
    },
    {
      "cell_type": "markdown",
      "source": [
        "### 252 클래스 정의\n",
        "비어있는 사람 (Human) 클래스를 \"정의\" 해보세요."
      ],
      "metadata": {
        "id": "4sME0WCO8LcO"
      }
    },
    {
      "cell_type": "code",
      "source": [
        "class Human:"
      ],
      "metadata": {
        "colab": {
          "base_uri": "https://localhost:8080/",
          "height": 137
        },
        "id": "xvPfAY6v8NQp",
        "outputId": "9f0fdc44-7eea-4e60-eb86-c252f5af0098"
      },
      "execution_count": 2,
      "outputs": [
        {
          "output_type": "error",
          "ename": "SyntaxError",
          "evalue": "ignored",
          "traceback": [
            "\u001b[0;36m  File \u001b[0;32m\"<ipython-input-2-be6324111339>\"\u001b[0;36m, line \u001b[0;32m1\u001b[0m\n\u001b[0;31m    class Human:\u001b[0m\n\u001b[0m                ^\u001b[0m\n\u001b[0;31mSyntaxError\u001b[0m\u001b[0;31m:\u001b[0m unexpected EOF while parsing\n"
          ]
        }
      ]
    },
    {
      "cell_type": "code",
      "source": [
        "# <정답>\n",
        "class Human:\n",
        "  pass"
      ],
      "metadata": {
        "id": "Ca5_eLyv8UXq"
      },
      "execution_count": 1,
      "outputs": []
    },
    {
      "cell_type": "markdown",
      "source": [
        "### 253 인스턴스 생성\n",
        "사람 (Human) 클래스의 인스턴스를 \"생성\" 하고 이를 areum 변수로 바인딩해보세요."
      ],
      "metadata": {
        "id": "hsGlXTkQ8alN"
      }
    },
    {
      "cell_type": "code",
      "source": [
        "class Human:\n",
        "  a = areum"
      ],
      "metadata": {
        "colab": {
          "base_uri": "https://localhost:8080/",
          "height": 266
        },
        "id": "NttO1psB8XIH",
        "outputId": "25e3e5c1-863e-445c-c6cc-fd80fdfb9540"
      },
      "execution_count": 3,
      "outputs": [
        {
          "output_type": "error",
          "ename": "NameError",
          "evalue": "ignored",
          "traceback": [
            "\u001b[0;31m---------------------------------------------------------------------------\u001b[0m",
            "\u001b[0;31mNameError\u001b[0m                                 Traceback (most recent call last)",
            "\u001b[0;32m<ipython-input-3-cef3ae28db61>\u001b[0m in \u001b[0;36m<module>\u001b[0;34m()\u001b[0m\n\u001b[0;32m----> 1\u001b[0;31m \u001b[0;32mclass\u001b[0m \u001b[0mHuman\u001b[0m\u001b[0;34m:\u001b[0m\u001b[0;34m\u001b[0m\u001b[0;34m\u001b[0m\u001b[0m\n\u001b[0m\u001b[1;32m      2\u001b[0m   \u001b[0ma\u001b[0m \u001b[0;34m=\u001b[0m \u001b[0mareum\u001b[0m\u001b[0;34m\u001b[0m\u001b[0;34m\u001b[0m\u001b[0m\n",
            "\u001b[0;32m<ipython-input-3-cef3ae28db61>\u001b[0m in \u001b[0;36mHuman\u001b[0;34m()\u001b[0m\n\u001b[1;32m      1\u001b[0m \u001b[0;32mclass\u001b[0m \u001b[0mHuman\u001b[0m\u001b[0;34m:\u001b[0m\u001b[0;34m\u001b[0m\u001b[0;34m\u001b[0m\u001b[0m\n\u001b[0;32m----> 2\u001b[0;31m   \u001b[0ma\u001b[0m \u001b[0;34m=\u001b[0m \u001b[0mareum\u001b[0m\u001b[0;34m\u001b[0m\u001b[0;34m\u001b[0m\u001b[0m\n\u001b[0m",
            "\u001b[0;31mNameError\u001b[0m: name 'areum' is not defined"
          ]
        }
      ]
    },
    {
      "cell_type": "code",
      "source": [
        "# <정답>\n",
        "class Human:\n",
        "  pass\n",
        "\n",
        "areum = Human()"
      ],
      "metadata": {
        "id": "wFFyWE8U8jG7"
      },
      "execution_count": 4,
      "outputs": []
    },
    {
      "cell_type": "markdown",
      "source": [
        "### 254 클래스 생성자-1\n",
        "사람 (Human) 클래스에 \"응애응애\"를 출력하는 생성자를 추가하세요.\n",
        "\n",
        "\n",
        "```\n",
        ">>> areum = Human()\n",
        "응애응애\n",
        "```\n",
        "\n"
      ],
      "metadata": {
        "id": "tisP5YK58yqx"
      }
    },
    {
      "cell_type": "code",
      "source": [
        "class Human:\n",
        "  print('응애응애')\n",
        "\n",
        "areum = Human()"
      ],
      "metadata": {
        "colab": {
          "base_uri": "https://localhost:8080/"
        },
        "id": "PblzTD4l8yHK",
        "outputId": "5184b0a6-ee09-4822-8585-64a678ef2489"
      },
      "execution_count": 6,
      "outputs": [
        {
          "output_type": "stream",
          "name": "stdout",
          "text": [
            "응애응애\n"
          ]
        }
      ]
    },
    {
      "cell_type": "code",
      "source": [
        "# <정답>\n",
        "class Human:\n",
        "  def __init__(self):\n",
        "    print(\"응애응애\")\n",
        "\n",
        "areum = Human()"
      ],
      "metadata": {
        "colab": {
          "base_uri": "https://localhost:8080/"
        },
        "id": "BUNR11lu8wQv",
        "outputId": "0ad08bdc-2e6d-4233-bc6d-27b8bafa9979"
      },
      "execution_count": 8,
      "outputs": [
        {
          "output_type": "stream",
          "name": "stdout",
          "text": [
            "응애응애\n"
          ]
        }
      ]
    },
    {
      "cell_type": "markdown",
      "source": [
        "- [python의 self와 __init__의 이해](https://engineer-mole.tistory.com/190)"
      ],
      "metadata": {
        "id": "b00GMxAQA4QF"
      }
    },
    {
      "cell_type": "markdown",
      "source": [
        "### 255 클래스 생성자-2\n",
        "사람 (Human) 클래스에 (이름, 나이, 성별)을 받는 생성자를 추가하세요.\n",
        "\n",
        "\n",
        "```\n",
        ">>> areum = Human(\"아름\", 25, \"여자\")\n",
        "```\n",
        "\n"
      ],
      "metadata": {
        "id": "im_ZaZ7U9V3z"
      }
    },
    {
      "cell_type": "code",
      "source": [
        "class Human:\n",
        "  def __init__(self, name, age, sex):\n",
        "    self.name = name\n",
        "    self.age = age\n",
        "    self.sex = sex\n",
        "\n",
        "\n",
        "areum = Human(\"아름\",25, \"여자\")\n",
        "print(areum.name)\n"
      ],
      "metadata": {
        "colab": {
          "base_uri": "https://localhost:8080/"
        },
        "id": "R3GtOuDE9VTV",
        "outputId": "a1e530d5-31b2-4559-9cb5-28b9e7710ad7"
      },
      "execution_count": 10,
      "outputs": [
        {
          "output_type": "stream",
          "name": "stdout",
          "text": [
            "아름\n"
          ]
        }
      ]
    },
    {
      "cell_type": "markdown",
      "source": [
        "### 256 인스턴스 속성에 접근\n",
        "255에서 생성한 인스턴스의 이름, 나이, 성별을 출력하세요. 인스턴스 변수에 접근하여 값을 출력하면 됩니다.\n",
        "\n",
        "\n",
        "```\n",
        "이름: 조아름, 나이: 25, 성별: 여자\n",
        "```\n",
        "인스턴스 변수에 접근하여 값을 가져오는 예\n",
        "\n",
        "\n",
        "```\n",
        ">>> areum.age\n",
        "25\n",
        "```\n",
        "\n",
        "\n",
        "\n"
      ],
      "metadata": {
        "id": "jfcFIsdc_DWJ"
      }
    },
    {
      "cell_type": "code",
      "source": [
        "class Human:\n",
        "  def __init__(self, name, age, sex):\n",
        "    self.name = name\n",
        "    self.age = age\n",
        "    self.sex = sex\n",
        "\n",
        "areum = Human('조아름', 25, '여자')\n",
        "\n",
        "print('이름:',areum.name, '나이:',areum.age, '성별:',areum.sex)"
      ],
      "metadata": {
        "colab": {
          "base_uri": "https://localhost:8080/"
        },
        "id": "FEU6lqK19MAs",
        "outputId": "2c60baa5-b18d-4cde-c1db-0a9d52b62bcc"
      },
      "execution_count": 12,
      "outputs": [
        {
          "output_type": "stream",
          "name": "stdout",
          "text": [
            "이름: 조아름 나이: 25 성별: 여자\n"
          ]
        }
      ]
    },
    {
      "cell_type": "markdown",
      "source": [
        "### 257 클래스 메소드 - 1\n",
        "사람 (Human) 클래스에서 이름, 나이, 성별을 출력하는 who() 메소드를 추가하세요.\n",
        "\n",
        "\n",
        "```\n",
        ">>> areum.who()\n",
        "이름: 조아름, 나이: 25, 성별: 여자\n",
        "```\n",
        "\n"
      ],
      "metadata": {
        "id": "kI6eVeBw_-61"
      }
    },
    {
      "cell_type": "code",
      "source": [
        "# who()에 self를 안넣어줘서 오류!!!\n",
        "# self 넣어주면 정상 작동함\n",
        "class Human:\n",
        "  def __init__(self, name, age, sex):\n",
        "    self.name = name\n",
        "    self.age = age\n",
        "    self.sex = sex\n",
        "\n",
        "  def who():\n",
        "    print('이름:', self.name, '나이:', self.age, '성별:', self.sex)\n",
        "\n",
        "areum = Human('조아름', 25, '여자')\n",
        "areum.who()"
      ],
      "metadata": {
        "colab": {
          "base_uri": "https://localhost:8080/",
          "height": 211
        },
        "id": "1GxIe4oG_Xwa",
        "outputId": "b62d49f0-0620-4ef2-b9fd-6189fa0698fa"
      },
      "execution_count": 13,
      "outputs": [
        {
          "output_type": "error",
          "ename": "TypeError",
          "evalue": "ignored",
          "traceback": [
            "\u001b[0;31m---------------------------------------------------------------------------\u001b[0m",
            "\u001b[0;31mTypeError\u001b[0m                                 Traceback (most recent call last)",
            "\u001b[0;32m<ipython-input-13-b147184c7460>\u001b[0m in \u001b[0;36m<module>\u001b[0;34m()\u001b[0m\n\u001b[1;32m      9\u001b[0m \u001b[0;34m\u001b[0m\u001b[0m\n\u001b[1;32m     10\u001b[0m \u001b[0mareum\u001b[0m \u001b[0;34m=\u001b[0m \u001b[0mHuman\u001b[0m\u001b[0;34m(\u001b[0m\u001b[0;34m'조아름'\u001b[0m\u001b[0;34m,\u001b[0m \u001b[0;36m25\u001b[0m\u001b[0;34m,\u001b[0m \u001b[0;34m'여자'\u001b[0m\u001b[0;34m)\u001b[0m\u001b[0;34m\u001b[0m\u001b[0;34m\u001b[0m\u001b[0m\n\u001b[0;32m---> 11\u001b[0;31m \u001b[0mareum\u001b[0m\u001b[0;34m.\u001b[0m\u001b[0mwho\u001b[0m\u001b[0;34m(\u001b[0m\u001b[0;34m)\u001b[0m\u001b[0;34m\u001b[0m\u001b[0;34m\u001b[0m\u001b[0m\n\u001b[0m",
            "\u001b[0;31mTypeError\u001b[0m: who() takes 0 positional arguments but 1 was given"
          ]
        }
      ]
    },
    {
      "cell_type": "code",
      "source": [
        "# <정답>\n",
        "class Human:\n",
        "    def __init__(self, name, age, sex):\n",
        "        self.name = name\n",
        "        self.age = age\n",
        "        self.sex = sex\n",
        "\n",
        "    def who(self):\n",
        "        print(\"이름: {} 나이: {} 성별: {}\".format(self.name, self.age, self.sex))\n",
        "\n",
        "areum = Human(\"아름\", 25, \"여자\")\n",
        "areum.who()      # Human.who(areum)"
      ],
      "metadata": {
        "colab": {
          "base_uri": "https://localhost:8080/"
        },
        "id": "DMkzPCQsBHjf",
        "outputId": "0fd071e1-5e3f-4d3f-dbd4-e32010715c1a"
      },
      "execution_count": 15,
      "outputs": [
        {
          "output_type": "stream",
          "name": "stdout",
          "text": [
            "이름: 아름 나이: 25 성별: 여자\n"
          ]
        }
      ]
    },
    {
      "cell_type": "markdown",
      "source": [
        "### ⭐258 클래스 메소드 - 2\n",
        "사람 (Human) 클래스에 (이름, 나이, 성별)을 받는 setInfo 메소드를 추가하세요.\n",
        "\n",
        "\n",
        "```\n",
        ">>> areum = Human(\"모름\", 0, \"모름\")\n",
        ">>> areum.setInfo(\"아름\", 25, \"여자\")\n",
        "```\n",
        "\n"
      ],
      "metadata": {
        "id": "GYuOzw2YBdrz"
      }
    },
    {
      "cell_type": "code",
      "source": [
        "# <정답>\n",
        "\n",
        "class Human:\n",
        "  def __init__(self, name, age, sex):\n",
        "    self.name = name\n",
        "    self.age = age\n",
        "    self.sex = sex\n",
        "\n",
        "  def who(self):\n",
        "    print('이름:', self.name, '나이:', self.age, '성별:', self.sex)\n",
        "\n",
        "  def setInfo(self, name, age, sex):\n",
        "    self.name = name\n",
        "    self.age = age\n",
        "    self.sex = sex\n",
        "  \n",
        "areum = Human(\"모름\", 0, \"모름\")\n",
        "areum.who()\n",
        "\n",
        "areum.setInfo(\"아름\", 25, \"여자\")\n",
        "areum.who()"
      ],
      "metadata": {
        "colab": {
          "base_uri": "https://localhost:8080/"
        },
        "id": "ECts5DhjAxQV",
        "outputId": "81c16c57-395f-44c5-eac5-c1744725d63a"
      },
      "execution_count": 18,
      "outputs": [
        {
          "output_type": "stream",
          "name": "stdout",
          "text": [
            "이름: 모름 나이: 0 성별: 모름\n",
            "이름: 아름 나이: 25 성별: 여자\n"
          ]
        }
      ]
    },
    {
      "cell_type": "markdown",
      "source": [
        "### 259 클래스 소멸자\n",
        "사람 (human) 클래스에 \"나의 죽음을 알리지 말라\"를 출력하는 소멸자를 추가하세요.\n",
        "\n",
        "\n",
        "```\n",
        ">>> areum = Human(\"아름\", 25, \"여자\")\n",
        ">>> del areum\n",
        "나의 죽음을 알리지 말라\n",
        "```\n",
        "\n"
      ],
      "metadata": {
        "id": "NZHUg_YZFHQS"
      }
    },
    {
      "cell_type": "code",
      "source": [
        ""
      ],
      "metadata": {
        "id": "M5yDYgepFGt3"
      },
      "execution_count": null,
      "outputs": []
    },
    {
      "cell_type": "code",
      "source": [
        ""
      ],
      "metadata": {
        "id": "Ff8XPWg6ExQo"
      },
      "execution_count": null,
      "outputs": []
    }
  ]
}