{
  "nbformat": 4,
  "nbformat_minor": 0,
  "metadata": {
    "colab": {
      "name": "초보자를_위한_파이썬_300제.ipynb",
      "provenance": [],
      "authorship_tag": "ABX9TyMkP29vwpmFFMsU3tQwP9BN"
    },
    "kernelspec": {
      "name": "python3",
      "display_name": "Python 3"
    },
    "language_info": {
      "name": "python"
    }
  },
  "cells": [
    {
      "cell_type": "markdown",
      "source": [
        "🔹\n",
        "🔹"
      ],
      "metadata": {
        "id": "pDP8XShnPtEm"
      }
    },
    {
      "cell_type": "markdown",
      "source": [
        "# 01. 파이썬 시작하기\n",
        "print 함수와 관련된 문제를 풀어봅시다.\n",
        "***\n",
        "###001 print 기초\n",
        "화면에 Hello World 문자열을 출력하세요."
      ],
      "metadata": {
        "id": "8Mauvkha52aV"
      }
    },
    {
      "cell_type": "code",
      "source": [
        "print('Hello World')"
      ],
      "metadata": {
        "colab": {
          "base_uri": "https://localhost:8080/"
        },
        "id": "j1PuKOTP57bW",
        "outputId": "e79bfb7f-db2f-4c9c-b1a2-8e9ad7dc7813"
      },
      "execution_count": null,
      "outputs": [
        {
          "output_type": "stream",
          "name": "stdout",
          "text": [
            "Hello World\n"
          ]
        }
      ]
    },
    {
      "cell_type": "markdown",
      "source": [
        "### 002 print 기초\n",
        "화면에 Mary's cosmetics을 출력하세요. (중간에 '가 있음에 주의하세요)"
      ],
      "metadata": {
        "id": "SRRFGqgY6Ll7"
      }
    },
    {
      "cell_type": "code",
      "source": [
        "print('Mary\\'s cosmetics')"
      ],
      "metadata": {
        "colab": {
          "base_uri": "https://localhost:8080/"
        },
        "id": "mipOlKWS6F-7",
        "outputId": "adb2c674-0aef-4be5-fd5f-7a0259ce68ac"
      },
      "execution_count": null,
      "outputs": [
        {
          "output_type": "stream",
          "name": "stdout",
          "text": [
            "Mary's cosmetics\n"
          ]
        }
      ]
    },
    {
      "cell_type": "markdown",
      "source": [
        "### 003 print 기초\n",
        "화면에 아래 문장을 출력하세요. (중간에 \"가 있음에 주의하세요.)   \n",
        "`신씨가 소리질렀다. \"도둑이야\".`"
      ],
      "metadata": {
        "id": "n9KZUtAs6Zk6"
      }
    },
    {
      "cell_type": "code",
      "source": [
        "print('신씨가 소리질렀다. \"도둑이야\".')"
      ],
      "metadata": {
        "colab": {
          "base_uri": "https://localhost:8080/"
        },
        "id": "KtvuZm-O6UPx",
        "outputId": "5ed1b7fe-2674-47cd-bc33-fdd498146fee"
      },
      "execution_count": null,
      "outputs": [
        {
          "output_type": "stream",
          "name": "stdout",
          "text": [
            "신씨가 소리질렀다. \"도둑이야\".\n"
          ]
        }
      ]
    },
    {
      "cell_type": "markdown",
      "source": [
        "### 004 print 기초\n",
        "화면에 \"C:\\Windows\"를 출력하세요."
      ],
      "metadata": {
        "id": "yKGj3kQi6mxD"
      }
    },
    {
      "cell_type": "code",
      "source": [
        "print('C:\\Windows')"
      ],
      "metadata": {
        "colab": {
          "base_uri": "https://localhost:8080/"
        },
        "id": "Y2ELZ2746iZH",
        "outputId": "da799a4b-ab79-4fb9-a4fd-8076ee295d5b"
      },
      "execution_count": null,
      "outputs": [
        {
          "output_type": "stream",
          "name": "stdout",
          "text": [
            "C:\\Windows\n"
          ]
        }
      ]
    },
    {
      "cell_type": "markdown",
      "source": [
        "### 005 print 탭과 줄바꿈\n",
        "다음 코드를 실행해보고 \\t와 \\n의 역할을 설명해보세요.   \n",
        "`print(\"안녕하세요.\\n만나서\\t\\t반갑습니다.\")`"
      ],
      "metadata": {
        "id": "0_nvfDII67-c"
      }
    },
    {
      "cell_type": "code",
      "source": [
        "print(\"안녕하세요.\\n만나서\\t\\t반갑습니다.\")\n",
        "\n",
        "# \\t 는 tab 1번의 역할로 \\t\\t는 tab 2번을 한 효과\n",
        "# \\n 은 줄바꿈"
      ],
      "metadata": {
        "colab": {
          "base_uri": "https://localhost:8080/"
        },
        "id": "ka0w1hxB6vD1",
        "outputId": "4b6ab702-bd6a-4560-efde-b3bb6ffe5d9d"
      },
      "execution_count": null,
      "outputs": [
        {
          "output_type": "stream",
          "name": "stdout",
          "text": [
            "안녕하세요.\n",
            "만나서\t\t반갑습니다.\n"
          ]
        }
      ]
    },
    {
      "cell_type": "markdown",
      "source": [
        "### 006 print 여러 데이터 출력\n",
        "print 함수에 두 개의 단어를 입력한 예제입니다. 아래 코드의 출력 결과를 예상해봅시다.   \n",
        "`print (\"오늘은\", \"일요일\")`"
      ],
      "metadata": {
        "id": "rTnt3Wpt7NY9"
      }
    },
    {
      "cell_type": "code",
      "source": [
        "# 오늘은 일요일\n",
        "# 위와 같이 출력될 것이다.\n",
        "print (\"오늘은\", \"일요일\")"
      ],
      "metadata": {
        "colab": {
          "base_uri": "https://localhost:8080/"
        },
        "id": "7hYAUl477BG2",
        "outputId": "80e4f907-455d-4953-c7f8-85764cbc267c"
      },
      "execution_count": null,
      "outputs": [
        {
          "output_type": "stream",
          "name": "stdout",
          "text": [
            "오늘은 일요일\n"
          ]
        }
      ]
    },
    {
      "cell_type": "markdown",
      "source": [
        "### 007 print 기초\n",
        "print() 함수를 사용하여 다음과 같이 출력하세요.   \n",
        "\n",
        "`\n",
        "naver;kakao;sk;samsung\n",
        "`\n"
      ],
      "metadata": {
        "id": "YERQt2uH7bNb"
      }
    },
    {
      "cell_type": "code",
      "source": [
        "print('naver;kakao;sk;samsung')"
      ],
      "metadata": {
        "colab": {
          "base_uri": "https://localhost:8080/"
        },
        "id": "McFltXQ37Ydb",
        "outputId": "70c7025a-0c08-4129-9cb4-9f9a788f9b24"
      },
      "execution_count": null,
      "outputs": [
        {
          "output_type": "stream",
          "name": "stdout",
          "text": [
            "naver;kakao;sk;samsung\n"
          ]
        }
      ]
    },
    {
      "cell_type": "code",
      "source": [
        "# <정답>\n",
        "# print 함수의 sep 인자로 \";\"를 입력하면 출력되는 값들 사이에 한 칸의 공백대신 세미콜론이 출력됩니다.\n",
        "print(\"naver\", \"kakao\", \"samsung\", sep=\";\")"
      ],
      "metadata": {
        "colab": {
          "base_uri": "https://localhost:8080/"
        },
        "id": "aabrWNmQ7sm7",
        "outputId": "a9abc2ab-7a10-46f9-bf50-317ecac5e6d7"
      },
      "execution_count": null,
      "outputs": [
        {
          "output_type": "stream",
          "name": "stdout",
          "text": [
            "naver;kakao;samsung\n"
          ]
        }
      ]
    },
    {
      "cell_type": "markdown",
      "source": [
        "- [파이썬(Python) 기초 print ( )문의 옵션 (sep , end , format , Escape )](https://infinitt.tistory.com/11)"
      ],
      "metadata": {
        "id": "iyvlOebiN0gt"
      }
    },
    {
      "cell_type": "markdown",
      "source": [
        "### 008 print 기초\n",
        "print() 함수를 사용하여 다음과 같이 출력하세요."
      ],
      "metadata": {
        "id": "rjonMtJ-Oac4"
      }
    },
    {
      "cell_type": "code",
      "source": [
        "print('naver', 'kakao', 'sk', 'samsung',sep='/')"
      ],
      "metadata": {
        "colab": {
          "base_uri": "https://localhost:8080/"
        },
        "id": "GLLwQOFI786C",
        "outputId": "69554c4f-430f-41c3-d0da-67cd8a02b0f7"
      },
      "execution_count": null,
      "outputs": [
        {
          "output_type": "stream",
          "name": "stdout",
          "text": [
            "naver/kakao/sk/samsung\n"
          ]
        }
      ]
    },
    {
      "cell_type": "markdown",
      "source": [
        "### 009 print 줄바꿈\n",
        "다음 코드를 수정하여 줄바꿈이 없이 출력하세요. (힌트: end='') print 함수는 두 번 사용합니다. 세미콜론 (;)은 한줄에 여러 개의 명령을 작성하기 위해 사용합니다.   \n",
        "`print(\"first\");print(\"second\")`"
      ],
      "metadata": {
        "id": "clIQczhaOxiL"
      }
    },
    {
      "cell_type": "code",
      "source": [
        "print(\"first\");print(\"second\")"
      ],
      "metadata": {
        "colab": {
          "base_uri": "https://localhost:8080/"
        },
        "id": "86KdZrphPcvg",
        "outputId": "4667b1f1-3ddf-406a-b376-22c5af05521a"
      },
      "execution_count": null,
      "outputs": [
        {
          "output_type": "stream",
          "name": "stdout",
          "text": [
            "first\n",
            "second\n"
          ]
        }
      ]
    },
    {
      "cell_type": "code",
      "source": [
        "print(\"first\", end=\" \");print(\"second\")"
      ],
      "metadata": {
        "colab": {
          "base_uri": "https://localhost:8080/"
        },
        "id": "Cj69811ROjhq",
        "outputId": "5c59e028-5cef-410d-b62b-2563e8bbdcc5"
      },
      "execution_count": null,
      "outputs": [
        {
          "output_type": "stream",
          "name": "stdout",
          "text": [
            "first second\n"
          ]
        }
      ]
    },
    {
      "cell_type": "markdown",
      "source": [
        "### 010 연산 결과 출력\n",
        "5/3의 결과를 화면에 출력하세요."
      ],
      "metadata": {
        "id": "HG8zXtsqPf53"
      }
    },
    {
      "cell_type": "code",
      "source": [
        "a=5\n",
        "b=3\n",
        "print(a/b)"
      ],
      "metadata": {
        "colab": {
          "base_uri": "https://localhost:8080/"
        },
        "id": "gKXNM5VHPag-",
        "outputId": "2e28baf9-b500-4622-ec98-516a61dbd9bd"
      },
      "execution_count": null,
      "outputs": [
        {
          "output_type": "stream",
          "name": "stdout",
          "text": [
            "1.6666666666666667\n"
          ]
        }
      ]
    },
    {
      "cell_type": "markdown",
      "source": [
        "# 02. 파이썬 변수\n",
        "파이썬 변수는 자주 사용되는 값을 바인딩합니다. 파이썬 변수의 개념을 이해하고 문제를 풀어봅시다.\n",
        "***\n",
        "### 011 변수 사용하기\n",
        "삼성전자라는 변수로 50,000원을 바인딩해보세요. 삼성전자 주식 10주를 보유하고 있을 때 총 평가금액을 출력하세요.\n",
        "\n"
      ],
      "metadata": {
        "id": "b_5-hynpQiPS"
      }
    },
    {
      "cell_type": "code",
      "source": [
        "samsung = 50000\n",
        "buy = 10\n",
        "\n",
        "print('총 평가금액=', samsung*buy)"
      ],
      "metadata": {
        "colab": {
          "base_uri": "https://localhost:8080/"
        },
        "id": "v_o0m0F8RF0K",
        "outputId": "aa03bab5-82c1-4198-847c-d2e0fae67f2c"
      },
      "execution_count": null,
      "outputs": [
        {
          "output_type": "stream",
          "name": "stdout",
          "text": [
            "총 평가금액= 500000\n"
          ]
        }
      ]
    },
    {
      "cell_type": "markdown",
      "source": [
        "### 012 변수 사용하기\n",
        "다음 표는 삼성전자의 일부 투자정보입니다. 변수를 사용해서 시가총액, 현재가, PER 등을 바인딩해보세요.\n",
        "\n",
        "|항목|값|\n",
        "|---|---|\n",
        "|시가총액|298조|\n",
        "|현재가|50,000원|\n",
        "|PER|15.79|\n"
      ],
      "metadata": {
        "id": "ORlobt8IQ_Al"
      }
    },
    {
      "cell_type": "code",
      "source": [
        "시가총액 = '298조'\n",
        "현재가 = '50000원'\n",
        "PER = 15.79\n",
        "\n",
        "print('시가총액 =',시가총액,',현재가 =', 현재가,',PER =', PER)"
      ],
      "metadata": {
        "colab": {
          "base_uri": "https://localhost:8080/"
        },
        "id": "AVdEmd20Rw2H",
        "outputId": "53c0535b-147c-45db-f94f-364532eac6f0"
      },
      "execution_count": null,
      "outputs": [
        {
          "output_type": "stream",
          "name": "stdout",
          "text": [
            "시가총액 = 298조 ,현재가 = 50000원 ,PER = 15.79\n"
          ]
        }
      ]
    },
    {
      "cell_type": "code",
      "source": [
        "# <정답>\n",
        "시가총액 = 298000000000000\n",
        "현재가 = 50000\n",
        "PER = 15.79\n",
        "print(시가총액, type(시가총액))\n",
        "print(현재가, type(현재가))\n",
        "print(PER, type(PER))"
      ],
      "metadata": {
        "colab": {
          "base_uri": "https://localhost:8080/"
        },
        "id": "BR52rpySTOyl",
        "outputId": "83ba3709-0a97-4d45-accb-e98319410ffd"
      },
      "execution_count": null,
      "outputs": [
        {
          "output_type": "stream",
          "name": "stdout",
          "text": [
            "298000000000000 <class 'int'>\n",
            "50000 <class 'int'>\n",
            "15.79 <class 'float'>\n"
          ]
        }
      ]
    },
    {
      "cell_type": "markdown",
      "source": [
        "### 013 문자열 출력\n",
        "변수 s와 t에는 각각 문자열이 바인딩 되어있습니다.\n",
        "\n",
        "\n",
        "```\n",
        ">> s = \"hello\"\n",
        ">> t = \"python\"\n",
        "```\n",
        "\n",
        "두 변수를 이용하여 아래와 같이 출력해보세요.\n",
        "\n",
        "\n",
        "```\n",
        "실행 예:\n",
        "hello! python\n",
        "```\n",
        "\n",
        "\n",
        "\n"
      ],
      "metadata": {
        "id": "C2E0qlfGTxys"
      }
    },
    {
      "cell_type": "code",
      "source": [
        "s = \"hello\"\n",
        "t = \"python\"\n",
        "\n",
        "print(s, '!', t)"
      ],
      "metadata": {
        "colab": {
          "base_uri": "https://localhost:8080/"
        },
        "id": "7JOXNzV4TxVc",
        "outputId": "2d9177dd-0470-46ef-b74e-4a662ae6cef9"
      },
      "execution_count": null,
      "outputs": [
        {
          "output_type": "stream",
          "name": "stdout",
          "text": [
            "hello ! python\n"
          ]
        }
      ]
    },
    {
      "cell_type": "code",
      "source": [
        "# <정답>\n",
        "s = \"hello\"\n",
        "t = \"python\"\n",
        "print(s+\"!\", t)"
      ],
      "metadata": {
        "colab": {
          "base_uri": "https://localhost:8080/"
        },
        "id": "TCB8ICjZUEXm",
        "outputId": "5ff455bc-8d84-4783-dc7c-d19c71ce484d"
      },
      "execution_count": null,
      "outputs": [
        {
          "output_type": "stream",
          "name": "stdout",
          "text": [
            "hello! python\n"
          ]
        }
      ]
    },
    {
      "cell_type": "markdown",
      "source": [
        "### 014 파이썬을 이용한 값 계산\n",
        "아래 코드의 실행 결과를 예상해보세요.\n",
        "\n",
        "\n",
        "```\n",
        ">> 2 + 2 * 3 \n",
        "```\n",
        "\n"
      ],
      "metadata": {
        "id": "fnPTRbxmUMGJ"
      }
    },
    {
      "cell_type": "code",
      "source": [
        "# 곱하기 먼저 실행되어서 8이 나오지 않을까...?\n",
        "\n",
        "2+2*3"
      ],
      "metadata": {
        "colab": {
          "base_uri": "https://localhost:8080/"
        },
        "id": "evfWDDY9Ts9x",
        "outputId": "4ba8f542-6d98-4ac9-8c8c-a5d286bb0d84"
      },
      "execution_count": null,
      "outputs": [
        {
          "output_type": "execute_result",
          "data": {
            "text/plain": [
              "8"
            ]
          },
          "metadata": {},
          "execution_count": 32
        }
      ]
    },
    {
      "cell_type": "markdown",
      "source": [
        "### 015 type 함수\n",
        "type() 함수는 데이터 타입을 판별합니다. 변수 a에는 128 숫자가 바인딩돼 있어 type 함수가 int (정수)형임을 알려줍니다.\n",
        "\n",
        "\n",
        "```\n",
        ">> a = 128\n",
        ">> print (type(a))\n",
        "<class 'int'>\n",
        "```\n",
        "\n",
        "아래 변수에 바인딩된 값의 타입을 판별해보세요.\n",
        "\n",
        "\n",
        "```\n",
        ">> a = \"132\"\n",
        "```\n",
        "\n",
        "\n"
      ],
      "metadata": {
        "id": "G5gGPLvnUdOr"
      }
    },
    {
      "cell_type": "code",
      "source": [
        "# \"\" 때문에 문자열로 인식되어 str로 판별 될 것 같다.\n",
        "\n",
        "a = \"132\"\n",
        "type(a)"
      ],
      "metadata": {
        "colab": {
          "base_uri": "https://localhost:8080/"
        },
        "id": "BnCqcTMaSRIe",
        "outputId": "d36bf8ef-9af8-4b53-a003-58b46037180e"
      },
      "execution_count": null,
      "outputs": [
        {
          "output_type": "execute_result",
          "data": {
            "text/plain": [
              "str"
            ]
          },
          "metadata": {},
          "execution_count": 33
        }
      ]
    },
    {
      "cell_type": "markdown",
      "source": [
        "### 016 문자열을 정수로 변환\n",
        "문자열 '720'를 정수형으로 변환해보세요.\n",
        "\n",
        "\n",
        "```\n",
        ">> num_str = \"720\"\n",
        "```\n",
        "\n",
        "\n"
      ],
      "metadata": {
        "id": "HQFh37dJVBI0"
      }
    },
    {
      "cell_type": "code",
      "source": [
        "num_str = \"720\"\n",
        "\n",
        "a=int(num_str)\n",
        "print(a, type(a))"
      ],
      "metadata": {
        "colab": {
          "base_uri": "https://localhost:8080/"
        },
        "id": "4dLLY9vqU12G",
        "outputId": "b7e4ef02-a4a1-43f4-81bf-3b5557b639f1"
      },
      "execution_count": null,
      "outputs": [
        {
          "output_type": "stream",
          "name": "stdout",
          "text": [
            "720 <class 'int'>\n"
          ]
        }
      ]
    },
    {
      "cell_type": "markdown",
      "source": [
        "- 긴가민가 했는데 맞았네ㅋㅋㅋ\n",
        "- [Python에서 문자열을 정수로 변환](https://www.delftstack.com/ko/howto/python/convert-string-to-int-in-python/)"
      ],
      "metadata": {
        "id": "ehMEsPsiWcp7"
      }
    },
    {
      "cell_type": "markdown",
      "source": [
        "### 017 정수를 문자열 100으로 변환\n",
        "정수 100을 문자열 '100'으로 변환해보세요.\n",
        "\n",
        "\n",
        "```\n",
        "num = 100\n",
        "```\n",
        "\n"
      ],
      "metadata": {
        "id": "sqvhLPOAWprm"
      }
    },
    {
      "cell_type": "code",
      "source": [
        "num = 100\n",
        "a=str(num)\n",
        "\n",
        "print(a, type(a))"
      ],
      "metadata": {
        "colab": {
          "base_uri": "https://localhost:8080/"
        },
        "id": "3Aq6wx-RWmv-",
        "outputId": "cac53c2b-3d46-43e2-b991-5a29439528db"
      },
      "execution_count": null,
      "outputs": [
        {
          "output_type": "stream",
          "name": "stdout",
          "text": [
            "100 <class 'str'>\n"
          ]
        }
      ]
    },
    {
      "cell_type": "markdown",
      "source": [
        "### 018 문자열을 실수로 변환\n",
        "문자열 \"15.79\"를 실수(float) 타입으로 변환해보세요."
      ],
      "metadata": {
        "id": "tnJakW_iW4m-"
      }
    },
    {
      "cell_type": "code",
      "source": [
        "a=\"15.79\"\n",
        "print(a, type(a))\n",
        "\n",
        "b=float(a)\n",
        "print(b, type(b))"
      ],
      "metadata": {
        "colab": {
          "base_uri": "https://localhost:8080/"
        },
        "id": "Iu6DNUORW0WB",
        "outputId": "505167f2-7e70-4211-dae8-168682f6b00d"
      },
      "execution_count": null,
      "outputs": [
        {
          "output_type": "stream",
          "name": "stdout",
          "text": [
            "15.79 <class 'str'>\n",
            "15.79 <class 'float'>\n"
          ]
        }
      ]
    },
    {
      "cell_type": "markdown",
      "source": [
        "### 019 문자열을 정수로 변환\n",
        "year라는 변수가 문자열 타입의 연도를 바인딩하고 있습니다. 이를 정수로 변환한 후 최근 3년의 연도를 화면에 출력해보세요.\n",
        "\n",
        "```\n",
        "year = \"2020\"\n",
        "```\n",
        "\n"
      ],
      "metadata": {
        "id": "DdUe4uh1XNgx"
      }
    },
    {
      "cell_type": "code",
      "source": [
        "year = \"2020\"\n",
        "year_int=int(year)\n",
        "\n",
        "print(year_int,year_int-1, year_int-2)"
      ],
      "metadata": {
        "colab": {
          "base_uri": "https://localhost:8080/"
        },
        "id": "_upOx-EXXGRK",
        "outputId": "8e7bf422-4b4e-463a-d890-7f45b669931f"
      },
      "execution_count": null,
      "outputs": [
        {
          "output_type": "stream",
          "name": "stdout",
          "text": [
            "2020 2019 2018\n"
          ]
        }
      ]
    },
    {
      "cell_type": "markdown",
      "source": [
        "### 020 파이썬 계산\n",
        "에이컨이 월 48,584원에 무이자 36개월의 조건으로 홈쇼핑에서 판매되고 있습니다.   \n",
        "총 금액은 계산한 후 이를 화면에 출력해보세요. (변수사용하기)"
      ],
      "metadata": {
        "id": "PYkbUcZ3X3jN"
      }
    },
    {
      "cell_type": "code",
      "source": [
        "mon = 48584\n",
        "no = 36\n",
        "\n",
        "print('총 금액=', mon*no)"
      ],
      "metadata": {
        "colab": {
          "base_uri": "https://localhost:8080/"
        },
        "id": "XvRu1MNnXsY1",
        "outputId": "dfc8cee3-1327-4c55-a2fa-515b5b6c36f8"
      },
      "execution_count": null,
      "outputs": [
        {
          "output_type": "stream",
          "name": "stdout",
          "text": [
            "총 금액= 1749024\n"
          ]
        }
      ]
    },
    {
      "cell_type": "markdown",
      "source": [
        "# 03. 파이썬 문자열\n",
        "파이썬 문자열은 인덱싱, 슬라이싱 기능과 다양한 메서드를 제공합니다.\n",
        "***"
      ],
      "metadata": {
        "id": "4EDy8OSRYS6F"
      }
    },
    {
      "cell_type": "markdown",
      "source": [
        "### 021 문자열 인덱싱\n",
        "letters가 바인딩하는 문자열에서 첫번째와 세번째 문자를 출력하세요.\n",
        "\n",
        "```\n",
        ">> letters = 'python'\n",
        "```\n",
        "\n",
        "```\n",
        "실행 예\n",
        "p t\n",
        "```\n",
        "\n",
        "\n",
        "\n",
        "\n"
      ],
      "metadata": {
        "id": "4FYm-PlPYdgT"
      }
    },
    {
      "cell_type": "code",
      "source": [
        "letters = 'python'\n",
        "\n",
        "print(letters[0], letters[2])"
      ],
      "metadata": {
        "colab": {
          "base_uri": "https://localhost:8080/"
        },
        "id": "W7x6SC2lYN-z",
        "outputId": "43cf5a9d-b608-486c-dda4-bc5d4674501e"
      },
      "execution_count": null,
      "outputs": [
        {
          "output_type": "stream",
          "name": "stdout",
          "text": [
            "p t\n"
          ]
        }
      ]
    },
    {
      "cell_type": "markdown",
      "source": [
        "### 022 문자열 슬라이싱\n",
        "자동차 번호가 다음과 같을 때 뒤에 4자리만 출력하세요.\n",
        "\n",
        "\n",
        "```\n",
        ">> license_plate = \"24가 2210\"\n",
        "```\n",
        "\n",
        "```\n",
        "실행 예: 2210\n",
        "```\n",
        "\n",
        "\n",
        "\n"
      ],
      "metadata": {
        "id": "eDNKK9o7aO-_"
      }
    },
    {
      "cell_type": "code",
      "source": [
        "license_plate = \"24가 2210\"\n",
        "\n",
        "print(license_plate[4:])"
      ],
      "metadata": {
        "colab": {
          "base_uri": "https://localhost:8080/"
        },
        "id": "zgkfn9_maGnw",
        "outputId": "2958d11b-d40d-470a-b2f8-eccdd0a2b046"
      },
      "execution_count": null,
      "outputs": [
        {
          "output_type": "stream",
          "name": "stdout",
          "text": [
            "2210\n"
          ]
        }
      ]
    },
    {
      "cell_type": "markdown",
      "source": [
        "### 023 문자열 인덱싱\n",
        "아래의 문자열에서 '홀' 만 출력하세요.\n",
        "\n",
        "\n",
        "```\n",
        ">> string = \"홀짝홀짝홀짝\"\n",
        "```\n",
        "\n",
        "```\n",
        "실행 예:\n",
        "홀홀홀\n",
        "```\n",
        "\n",
        "\n",
        "\n"
      ],
      "metadata": {
        "id": "rHkaPNlDavW1"
      }
    },
    {
      "cell_type": "code",
      "source": [
        "string = \"홀짝홀짝홀짝\"\n",
        "\n",
        "\n",
        "print(string[0::2])"
      ],
      "metadata": {
        "colab": {
          "base_uri": "https://localhost:8080/"
        },
        "id": "b_lvfaLEafm7",
        "outputId": "fdcc42ba-18dd-4e5c-cfda-004ac4d3653f"
      },
      "execution_count": null,
      "outputs": [
        {
          "output_type": "stream",
          "name": "stdout",
          "text": [
            "홀홀홀\n"
          ]
        }
      ]
    },
    {
      "cell_type": "markdown",
      "source": [
        "### 024 문자열 슬라이싱\n",
        "문자열을 거꾸로 뒤집어 출력하세요.\n",
        "\n",
        "\n",
        "```\n",
        ">> string = \"PYTHON\"\n",
        "```\n",
        "\n",
        "```\n",
        "실행 예:\n",
        "NOHTYP\n",
        "```\n",
        "\n",
        "\n",
        "\n"
      ],
      "metadata": {
        "id": "CoLurceMq48B"
      }
    },
    {
      "cell_type": "code",
      "source": [
        "string = \"PYTHON\"\n",
        "reverse_string = \"\"\n",
        "\n",
        "for c in string:\n",
        "  reverse_string = c + reverse_string\n",
        "\n",
        "print(reverse_string)\n"
      ],
      "metadata": {
        "colab": {
          "base_uri": "https://localhost:8080/"
        },
        "id": "iALLJUIuqzs7",
        "outputId": "69ebbc3f-c8eb-4c39-a49a-7ab48b851567"
      },
      "execution_count": null,
      "outputs": [
        {
          "output_type": "stream",
          "name": "stdout",
          "text": [
            "NOHTYP\n"
          ]
        }
      ]
    },
    {
      "cell_type": "code",
      "source": [
        "# <정답>\n",
        "string = \"PYTHON\"\n",
        "print(string[::-1])"
      ],
      "metadata": {
        "colab": {
          "base_uri": "https://localhost:8080/"
        },
        "id": "25a0K-yZ0q9N",
        "outputId": "b2ab9e38-1679-4986-e4b1-9844f734adb0"
      },
      "execution_count": null,
      "outputs": [
        {
          "output_type": "stream",
          "name": "stdout",
          "text": [
            "NOHTYP\n"
          ]
        }
      ]
    },
    {
      "cell_type": "markdown",
      "source": [
        "- for 문으로 만들고 싶었지만 하는 방법을 몰라서 찾아서 작성\n",
        "- [파이썬 문자열 뒤집기, 거꾸로 출력 하기 3가지 방법](https://blockdmask.tistory.com/581)"
      ],
      "metadata": {
        "id": "WfgH4YZwwabS"
      }
    },
    {
      "cell_type": "markdown",
      "source": [
        "### 025 문자열 치환\n",
        "아래의 전화번호에서 하이푼 ('-')을 제거하고 출력하세요.\n",
        "\n",
        "\n",
        "```\n",
        ">> phone_number = \"010-1111-2222\"\n",
        "```\n",
        "\n",
        "\n",
        "```\n",
        "실행 예\n",
        "010 1111 2222\n",
        "```\n",
        "\n",
        "\n",
        "\n"
      ],
      "metadata": {
        "id": "EMRaGY1HwxFs"
      }
    },
    {
      "cell_type": "code",
      "source": [
        "phone_number = \"010-1111-2222\"\n",
        "phone_number.replace(\"-\", \" \")"
      ],
      "metadata": {
        "colab": {
          "base_uri": "https://localhost:8080/",
          "height": 35
        },
        "id": "bxkdQfJD3Cif",
        "outputId": "177c3b58-3bd9-4b26-9655-386fb7ef3b8a"
      },
      "execution_count": null,
      "outputs": [
        {
          "output_type": "execute_result",
          "data": {
            "text/plain": [
              "'010 1111 2222'"
            ],
            "application/vnd.google.colaboratory.intrinsic+json": {
              "type": "string"
            }
          },
          "metadata": {},
          "execution_count": 59
        }
      ]
    },
    {
      "cell_type": "code",
      "source": [
        "# strip을 사용했을 때 왜 제거가 안되는걸까?\n",
        "phone_number = \"010-1111-2222\"\n",
        "phone_number.strip(\"-\")"
      ],
      "metadata": {
        "colab": {
          "base_uri": "https://localhost:8080/",
          "height": 35
        },
        "id": "Nh3zfuG73sHC",
        "outputId": "23e8db71-8c2b-40aa-f331-d865686a709e"
      },
      "execution_count": null,
      "outputs": [
        {
          "output_type": "execute_result",
          "data": {
            "text/plain": [
              "'010-1111-2222'"
            ],
            "application/vnd.google.colaboratory.intrinsic+json": {
              "type": "string"
            }
          },
          "metadata": {},
          "execution_count": 61
        }
      ]
    },
    {
      "cell_type": "markdown",
      "source": [
        "- [문자열에서 특정(일부) 문자만 삭제하는 방법들](https://engineer-mole.tistory.com/238)"
      ],
      "metadata": {
        "id": "9wdVVXHk14F1"
      }
    },
    {
      "cell_type": "markdown",
      "source": [
        "### 026 문자열 다루기\n",
        "25번 문제의 전화번호를 아래와 같이 모두 붙여 출력하세요.\n",
        "\n",
        "\n",
        "```\n",
        "실행 예\n",
        "01011112222\n",
        "```\n",
        "\n"
      ],
      "metadata": {
        "id": "Tv_94XRo34Au"
      }
    },
    {
      "cell_type": "code",
      "source": [
        "phone_number.replace(\"-\",\"\")"
      ],
      "metadata": {
        "colab": {
          "base_uri": "https://localhost:8080/",
          "height": 35
        },
        "id": "nFgT2bbR38vT",
        "outputId": "c6614f30-b841-486d-f2c5-4fb591c06c52"
      },
      "execution_count": null,
      "outputs": [
        {
          "output_type": "execute_result",
          "data": {
            "text/plain": [
              "'01011112222'"
            ],
            "application/vnd.google.colaboratory.intrinsic+json": {
              "type": "string"
            }
          },
          "metadata": {},
          "execution_count": 62
        }
      ]
    },
    {
      "cell_type": "markdown",
      "source": [
        "### ⭐027 문자열 다루기\n",
        "url 에 저장된 웹 페이지 주소에서 도메인을 출력하세요.\n",
        "\n",
        "\n",
        "```\n",
        ">> url = \"http://sharebook.kr\"\n",
        "```\n",
        "\n",
        "```\n",
        "실행 예:\n",
        "kr\n",
        "```\n",
        "\n",
        "\n"
      ],
      "metadata": {
        "id": "zP1NEomn4E9d"
      }
    },
    {
      "cell_type": "code",
      "source": [
        "# <정답>\n",
        "# 문자열로 표현된 url에서 .을 기준으로 분리합니다. 분리된 url 중 마지막을 인덱싱하면 도메인만 출력할 수 있습니다.\n",
        "url = \"http://sharebook.kr\"\n",
        "\n",
        "url_split = url.split('.')\n",
        "print(url_split[-1])"
      ],
      "metadata": {
        "colab": {
          "base_uri": "https://localhost:8080/"
        },
        "id": "gC9pNdbF4Bpb",
        "outputId": "eca0c887-7346-4232-ace8-ff2976936630"
      },
      "execution_count": null,
      "outputs": [
        {
          "output_type": "stream",
          "name": "stdout",
          "text": [
            "kr\n"
          ]
        }
      ]
    },
    {
      "cell_type": "markdown",
      "source": [
        "### 028 문자열은 immutable\n",
        "아래 코드의 실행 결과를 예상해보세요.\n",
        "\n",
        "\n",
        "```\n",
        ">> lang = 'python'\n",
        ">> lang[0] = 'P'\n",
        ">> print(lang)\n",
        "```\n",
        "\n"
      ],
      "metadata": {
        "id": "7QTAivnd929J"
      }
    },
    {
      "cell_type": "code",
      "source": [
        "# 'python' 이라고 출력될 것 같다.\n",
        "lang = 'python'\n",
        "lang[0] = 'P'\n",
        "print(lang)\n",
        "\n",
        "# <정답>\n",
        "# 문자열은 수정할 수 없습니다.\n",
        "# 실행 결과를 확인해보면 문자열이 할당(assignment) 메서드를 지원하지 않음을 알 수 있습니다."
      ],
      "metadata": {
        "colab": {
          "base_uri": "https://localhost:8080/",
          "height": 230
        },
        "id": "mQ7GFbu69x7l",
        "outputId": "a4ab06c7-0add-4775-b9f5-c02be1b26cd0"
      },
      "execution_count": null,
      "outputs": [
        {
          "output_type": "error",
          "ename": "TypeError",
          "evalue": "ignored",
          "traceback": [
            "\u001b[0;31m---------------------------------------------------------------------------\u001b[0m",
            "\u001b[0;31mTypeError\u001b[0m                                 Traceback (most recent call last)",
            "\u001b[0;32m<ipython-input-67-6b171fa2edb9>\u001b[0m in \u001b[0;36m<module>\u001b[0;34m()\u001b[0m\n\u001b[1;32m      1\u001b[0m \u001b[0;31m# 'python' 이라고 출력될 것 같다.\u001b[0m\u001b[0;34m\u001b[0m\u001b[0;34m\u001b[0m\u001b[0;34m\u001b[0m\u001b[0m\n\u001b[1;32m      2\u001b[0m \u001b[0mlang\u001b[0m \u001b[0;34m=\u001b[0m \u001b[0;34m'python'\u001b[0m\u001b[0;34m\u001b[0m\u001b[0;34m\u001b[0m\u001b[0m\n\u001b[0;32m----> 3\u001b[0;31m \u001b[0mlang\u001b[0m\u001b[0;34m[\u001b[0m\u001b[0;36m0\u001b[0m\u001b[0;34m]\u001b[0m \u001b[0;34m=\u001b[0m \u001b[0;34m'P'\u001b[0m\u001b[0;34m\u001b[0m\u001b[0;34m\u001b[0m\u001b[0m\n\u001b[0m\u001b[1;32m      4\u001b[0m \u001b[0mprint\u001b[0m\u001b[0;34m(\u001b[0m\u001b[0mlang\u001b[0m\u001b[0;34m)\u001b[0m\u001b[0;34m\u001b[0m\u001b[0;34m\u001b[0m\u001b[0m\n",
            "\u001b[0;31mTypeError\u001b[0m: 'str' object does not support item assignment"
          ]
        }
      ]
    },
    {
      "cell_type": "markdown",
      "source": [
        "### 029 replace 메서드\n",
        "아래 문자열에서 소문자 'a'를 대문자 'A'로 변경하세요.\n",
        "\n",
        "\n",
        "```\n",
        ">> string = 'abcdfe2a354a32a'\n",
        "```\n",
        "\n",
        "\n",
        "```\n",
        "실행 예:\n",
        "Abcdfe2A354A32A\n",
        "```\n",
        "\n",
        "\n"
      ],
      "metadata": {
        "id": "IbbfE7Tr_PBz"
      }
    },
    {
      "cell_type": "code",
      "source": [
        "string = 'abcdfe2a354a32a'\n",
        "string.replace('a', 'A')"
      ],
      "metadata": {
        "colab": {
          "base_uri": "https://localhost:8080/",
          "height": 35
        },
        "id": "WxYpL0HJ_Oes",
        "outputId": "e29c4690-fca7-421e-a6b9-85f306a095c4"
      },
      "execution_count": null,
      "outputs": [
        {
          "output_type": "execute_result",
          "data": {
            "text/plain": [
              "'Abcdfe2A354A32A'"
            ],
            "application/vnd.google.colaboratory.intrinsic+json": {
              "type": "string"
            }
          },
          "metadata": {},
          "execution_count": 69
        }
      ]
    },
    {
      "cell_type": "markdown",
      "source": [
        "### 030 replace 메서드\n",
        "아래 코드의 실행 결과를 예상해보세요.\n",
        "\n",
        "\n",
        "```\n",
        ">> string = 'abcd'\n",
        ">> string.replace('b', 'B')\n",
        ">> print(string)\n",
        "```\n",
        "\n"
      ],
      "metadata": {
        "id": "RqPEsQD5_h6U"
      }
    },
    {
      "cell_type": "code",
      "source": [
        "# aBcd 로 출력될 것 같다.\n",
        "# 틀림. replace로 변경된 사항은 변수에 할당해주지 않았음\n",
        "# 즉, 변경되지 않은 string이 그대로 출력\n",
        "string = 'abcd'\n",
        "string.replace('b', 'B')\n",
        "print(string)"
      ],
      "metadata": {
        "colab": {
          "base_uri": "https://localhost:8080/"
        },
        "id": "52kAY0pb-JN4",
        "outputId": "6cd99bb1-64ec-400c-ec40-bfd77040b30f"
      },
      "execution_count": null,
      "outputs": [
        {
          "output_type": "stream",
          "name": "stdout",
          "text": [
            "abcd\n"
          ]
        }
      ]
    },
    {
      "cell_type": "code",
      "source": [
        "# <정답>\n",
        "# abcd가 그대로 출력됩니다.\n",
        "# 왜냐하면 문자열은 변경할 수 없는 자료형이기 때문입니다.\n",
        "# replace 메서드를 사용하면 원본은 그대로 둔채로 변경된 새로운 문자열 객체를 리턴해줍니다."
      ],
      "metadata": {
        "id": "2I9KkcS-AGFt"
      },
      "execution_count": null,
      "outputs": []
    },
    {
      "cell_type": "markdown",
      "source": [
        "### 031 문자열 합치기\n",
        "아래 코드의 실행 결과를 예상해보세요.\n",
        "\n",
        "\n",
        "```\n",
        ">> a = \"3\"\n",
        ">> b = \"4\"\n",
        ">> print(a + b)\n",
        "```\n",
        "\n"
      ],
      "metadata": {
        "id": "VhDdA2haBCM8"
      }
    },
    {
      "cell_type": "code",
      "source": [
        "# 오류가 날 것 같다.\n",
        "# 왜냐하면 int면 +가 가능할 것 같은데 str 형식이어서 덧셈불가 또는\n",
        "# 34  이렇게 나올 수도 있겠다\n",
        "\n",
        "a = \"3\"\n",
        "b = \"4\"\n",
        "print(a + b)\n",
        "\n",
        "# <정답>\n",
        "# 두 문자열에 대해 덧셈 기호는 문자열의 연결을 의미합니다.\n",
        "# 따라서 \"34\"라는 새로운 문자열이 생성되고 그 값이 print 함수에 의해 화면에 출력됩니다."
      ],
      "metadata": {
        "colab": {
          "base_uri": "https://localhost:8080/"
        },
        "id": "lvnZVMSbBIj2",
        "outputId": "eb050562-de0e-4e07-cd2a-224e468a19eb"
      },
      "execution_count": null,
      "outputs": [
        {
          "output_type": "stream",
          "name": "stdout",
          "text": [
            "34\n"
          ]
        }
      ]
    },
    {
      "cell_type": "markdown",
      "source": [
        "### 032 문자열 곱하기\n",
        "아래 코드의 실행 결과를 예상해보세요.\n",
        "\n",
        "\n",
        "```\n",
        ">> print(\"Hi\" * 3)\n",
        "```\n",
        "\n"
      ],
      "metadata": {
        "id": "hHynnBC3KH7P"
      }
    },
    {
      "cell_type": "code",
      "source": [
        "# HiHiHi  이렇게 결과가 나올 것 같다.\n",
        "\n",
        "print(\"Hi\" * 3)\n",
        "\n",
        "# <정답>\n",
        "# 문자열에 대한 곱셈은 문자열의 반복을 의미합니다.\n",
        "# 따라서 다음과 같이 문자열이 출력됩니다."
      ],
      "metadata": {
        "colab": {
          "base_uri": "https://localhost:8080/"
        },
        "id": "BjQvyuQ8KAev",
        "outputId": "ef9cd5f7-e525-4e5f-bb20-95096541ec44"
      },
      "execution_count": null,
      "outputs": [
        {
          "output_type": "stream",
          "name": "stdout",
          "text": [
            "HiHiHi\n"
          ]
        }
      ]
    },
    {
      "cell_type": "markdown",
      "source": [
        "### 033 문자열 곱하기\n",
        "화면에 '-'를 80개 출력하세요.\n",
        "\n",
        "\n",
        "```\n",
        "실행 예:\n",
        "--------------------------------------------------------------------------------\n",
        "```\n",
        "\n"
      ],
      "metadata": {
        "id": "4edIbsdyKX8k"
      }
    },
    {
      "cell_type": "code",
      "source": [
        "print(\"-\"*80)"
      ],
      "metadata": {
        "colab": {
          "base_uri": "https://localhost:8080/"
        },
        "id": "MkktP0bKKRXv",
        "outputId": "47f9204a-41b9-4f79-96d6-6ada64b40c7d"
      },
      "execution_count": null,
      "outputs": [
        {
          "output_type": "stream",
          "name": "stdout",
          "text": [
            "--------------------------------------------------------------------------------\n"
          ]
        }
      ]
    },
    {
      "cell_type": "markdown",
      "source": [
        "### 034 문자열 곱하기\n",
        "변수에 다음과 같은 문자열이 바인딩되어 있습니다.\n",
        "\n",
        "\n",
        "```\n",
        ">>> t1 = 'python'\n",
        ">>> t2 = 'java'\n",
        "```\n",
        "변수에 문자열 더하기와 문자열 곱하기를 사용해서 아래와 같이 출력해보세요.\n",
        "\n",
        "실행 예:\n",
        "\n",
        "\n",
        "```\n",
        "실행 예:\n",
        "python java python java python java python java\n",
        "```\n",
        "\n"
      ],
      "metadata": {
        "id": "Idl5o8IoKhDH"
      }
    },
    {
      "cell_type": "code",
      "source": [
        "t1 = 'python'\n",
        "t2 = 'java'\n",
        "\n",
        "print((t1+t2)*4, sep=\" \")"
      ],
      "metadata": {
        "colab": {
          "base_uri": "https://localhost:8080/"
        },
        "id": "Ol_Mz-3GKcFM",
        "outputId": "ae449844-1a51-4a79-b16b-d853c4e771a8"
      },
      "execution_count": null,
      "outputs": [
        {
          "output_type": "stream",
          "name": "stdout",
          "text": [
            "pythonjavapythonjavapythonjavapythonjava\n"
          ]
        }
      ]
    },
    {
      "cell_type": "code",
      "source": [
        "# <정답>\n",
        "t1 = 'python'\n",
        "t2 = 'java'\n",
        "t3 = t1 + ' ' + t2 + ' '\n",
        "print(t3 * 4)"
      ],
      "metadata": {
        "colab": {
          "base_uri": "https://localhost:8080/"
        },
        "id": "Qm7G8Hu0LEG6",
        "outputId": "75d68492-ce61-403e-dc7d-9e6c69dd5511"
      },
      "execution_count": null,
      "outputs": [
        {
          "output_type": "stream",
          "name": "stdout",
          "text": [
            "python java python java python java python java \n"
          ]
        }
      ]
    },
    {
      "cell_type": "markdown",
      "source": [
        "### 035 문자열 출력\n",
        "변수에 다음과 같이 문자열과 정수가 바인딩되어 있을 때 % formatting을 사용해서 다음과 같이 출력해보세요.\n",
        "\n",
        "\n",
        "\n",
        "```\n",
        "name1 = \"김민수\" \n",
        "age1 = 10\n",
        "name2 = \"이철희\"\n",
        "age2 = 13\n",
        "```\n",
        "\n",
        "\n",
        "```\n",
        "이름: 김민수 나이: 10\n",
        "이름: 이철희 나이: 13\n",
        "```\n",
        "\n",
        "\n"
      ],
      "metadata": {
        "id": "G80DPKzxLcbe"
      }
    },
    {
      "cell_type": "code",
      "source": [
        "name1 = \"김민수\" \n",
        "age1 = 10\n",
        "name2 = \"이철희\"\n",
        "age2 = 13\n",
        "\n",
        "print('이름 : %s 나이 : %d' % (name1, age1))\n",
        "print('이름 : %s 나이 : %d' % (name2, age2))"
      ],
      "metadata": {
        "colab": {
          "base_uri": "https://localhost:8080/"
        },
        "id": "oB8-KQ7SKv2u",
        "outputId": "d1854195-0872-41f7-bb60-ac58d01ed9a7"
      },
      "execution_count": null,
      "outputs": [
        {
          "output_type": "stream",
          "name": "stdout",
          "text": [
            "이름 : 김민수 나이 : 10\n",
            "이름 : 이철희 나이 : 13\n"
          ]
        }
      ]
    },
    {
      "cell_type": "markdown",
      "source": [
        "- [String Formatting의 다양한 방법 정리(%, Str formatting, f-stirng)](https://codechacha.com/ko/python-string-formatting/)\n",
        "- print 포맷팅에서 %s는 문자열 데이터 타입의 값을 %d는 정수형 데이터 타입 값의 출력을 의미"
      ],
      "metadata": {
        "id": "UtNvgcEzM2TT"
      }
    },
    {
      "cell_type": "markdown",
      "source": [
        "### 036 문자열 출력\n",
        "문자열의 format( ) 메서드를 사용해서 035번 문제를 다시 풀어보세요."
      ],
      "metadata": {
        "id": "UyTVYdl-Oc_X"
      }
    },
    {
      "cell_type": "code",
      "source": [
        "a = '이름 : {0} 나이 : {1}'.format(name1, age1)\n",
        "print(a)\n",
        "b = '이름 : {0} 나이 : {1}'.format(name2, age2)\n",
        "print(b)"
      ],
      "metadata": {
        "colab": {
          "base_uri": "https://localhost:8080/"
        },
        "id": "VkGzj62YOjtH",
        "outputId": "e36bb041-4a9e-46d5-dbc2-cdfa597c138b"
      },
      "execution_count": null,
      "outputs": [
        {
          "output_type": "stream",
          "name": "stdout",
          "text": [
            "이름 : 김민수 나이 : 10\n",
            "이름 : 이철희 나이 : 13\n"
          ]
        }
      ]
    },
    {
      "cell_type": "markdown",
      "source": [
        "- [파이썬 format 함수 (문자열 포매팅 방법 1)](https://blockdmask.tistory.com/424)"
      ],
      "metadata": {
        "id": "dF9UwzACQSq-"
      }
    },
    {
      "cell_type": "markdown",
      "source": [
        "### 037 문자열 출력\n",
        "파이썬 3.6부터 지원하는 f-string을 사용해서 035번 문제를 다시 풀어보세요."
      ],
      "metadata": {
        "id": "HQuP6eXLQauw"
      }
    },
    {
      "cell_type": "code",
      "source": [
        "print(f'이름 : {name1} 나이 : {age1}')\n",
        "print(f'이름 : {name2} 나이 : {age2}')"
      ],
      "metadata": {
        "colab": {
          "base_uri": "https://localhost:8080/"
        },
        "id": "u3sQeFG_QRAi",
        "outputId": "341f7952-beae-4c28-e4ff-f09c1538f012"
      },
      "execution_count": null,
      "outputs": [
        {
          "output_type": "stream",
          "name": "stdout",
          "text": [
            "이름 : 김민수 나이 : 10\n",
            "이름 : 이철희 나이 : 13\n"
          ]
        }
      ]
    },
    {
      "cell_type": "markdown",
      "source": [
        "- [파이썬 f-string (문자열 포매팅 방법 3)](https://blockdmask.tistory.com/429)"
      ],
      "metadata": {
        "id": "KxAVxO5uR_h6"
      }
    },
    {
      "cell_type": "markdown",
      "source": [
        "### 038 컴마 제거하기\n",
        "삼성전자의 상장주식수가 다음과 같습니다. 컴마를 제거한 후 이를 정수 타입으로 변환해보세요.\n",
        "\n",
        "\n",
        "```\n",
        "상장주식수 = \"5,969,782,550\"\n",
        "```\n",
        "\n"
      ],
      "metadata": {
        "id": "oxAHekW_SnwU"
      }
    },
    {
      "cell_type": "code",
      "source": [
        "상장주식수 = \"5,969,782,550\"\n",
        "samsung_a = 상장주식수.replace(\",\",\"\")\n",
        "samsung = int(samsung_a)\n",
        "\n",
        "print(samsung, type(samsung))"
      ],
      "metadata": {
        "colab": {
          "base_uri": "https://localhost:8080/"
        },
        "id": "TOaZwTDaSum2",
        "outputId": "b21b0803-739a-41a7-f938-c145c0b1baa2"
      },
      "execution_count": null,
      "outputs": [
        {
          "output_type": "stream",
          "name": "stdout",
          "text": [
            "5969782550 <class 'int'>\n"
          ]
        }
      ]
    },
    {
      "cell_type": "markdown",
      "source": [
        "### 039 문자열 슬라이싱\n",
        "다음과 같은 문자열에서 '2020/03'만 출력하세요.\n",
        "\n",
        "\n",
        "```\n",
        "분기 = \"2020/03(E) (IFRS연결)\"\n",
        "```\n",
        "\n"
      ],
      "metadata": {
        "id": "yk13sIhxTKQl"
      }
    },
    {
      "cell_type": "code",
      "source": [
        "분기 = \"2020/03(E) (IFRS연결)\"\n",
        "print(분기[0:7])"
      ],
      "metadata": {
        "colab": {
          "base_uri": "https://localhost:8080/"
        },
        "id": "hED08R8aTC8o",
        "outputId": "e9a1352b-99a1-4372-c20a-a98974a7308f"
      },
      "execution_count": null,
      "outputs": [
        {
          "output_type": "stream",
          "name": "stdout",
          "text": [
            "2020/03\n"
          ]
        }
      ]
    },
    {
      "cell_type": "markdown",
      "source": [
        "### 040 strip 메서드\n",
        "문자열의 좌우의 공백이 있을 때 이를 제거해보세요.\n",
        "\n",
        "\n",
        "```\n",
        "data = \"   삼성전자    \"\n",
        "```\n",
        "\n"
      ],
      "metadata": {
        "id": "umyxHbNGTel3"
      }
    },
    {
      "cell_type": "code",
      "source": [
        "data = \"   삼성전자    \"\n",
        "\n",
        "a = data.strip()\n",
        "a\n",
        "\n",
        "# <정답>\n",
        "# 문자열에서 strip( ) 메서드를 사용하면 좌우의 공백을 제거할 수 있습니다.\n",
        "# 이때 원본 문자열은 그대로 유지되고 공백이 제거된 새로운 문자열이 반환됩니다."
      ],
      "metadata": {
        "colab": {
          "base_uri": "https://localhost:8080/",
          "height": 35
        },
        "id": "w9qkJzmITaFC",
        "outputId": "e91870e2-4b2a-44da-df2d-551ca8fcdedc"
      },
      "execution_count": null,
      "outputs": [
        {
          "output_type": "execute_result",
          "data": {
            "text/plain": [
              "'삼성전자'"
            ],
            "application/vnd.google.colaboratory.intrinsic+json": {
              "type": "string"
            }
          },
          "metadata": {},
          "execution_count": 96
        }
      ]
    },
    {
      "cell_type": "markdown",
      "source": [
        "### 041 upper 메서드\n",
        "다음과 같은 문자열이 있을 때 이를 대문자 BTC_KRW로 변경하세요.\n",
        "\n",
        "\n",
        "```\n",
        "ticker = \"btc_krw\"\n",
        "```\n",
        "\n"
      ],
      "metadata": {
        "id": "Dfk6fJpbT1wy"
      }
    },
    {
      "cell_type": "code",
      "source": [
        "ticker = \"btc_krw\"\n",
        "ticker.upper()"
      ],
      "metadata": {
        "colab": {
          "base_uri": "https://localhost:8080/",
          "height": 35
        },
        "id": "lqGF58UVTnMg",
        "outputId": "b57a86c9-5552-4553-f887-2f430cfd60c3"
      },
      "execution_count": null,
      "outputs": [
        {
          "output_type": "execute_result",
          "data": {
            "text/plain": [
              "'BTC_KRW'"
            ],
            "application/vnd.google.colaboratory.intrinsic+json": {
              "type": "string"
            }
          },
          "metadata": {},
          "execution_count": 97
        }
      ]
    },
    {
      "cell_type": "markdown",
      "source": [
        "### 042 lower 메서드\n",
        "다음과 같은 문자열이 있을 때 이를 소문자 btc_krw로 변경하세요.\n",
        "\n",
        "\n",
        "```\n",
        "ticker = \"BTC_KRW\"\n",
        "```\n",
        "\n"
      ],
      "metadata": {
        "id": "TsOwXk8f2814"
      }
    },
    {
      "cell_type": "code",
      "source": [
        "ticker = \"BTC_KRW\"\n",
        "ticker.lower()"
      ],
      "metadata": {
        "id": "cTZ6iQEHT_GN",
        "colab": {
          "base_uri": "https://localhost:8080/",
          "height": 35
        },
        "outputId": "1115fa47-84f4-4877-90b5-d16d3bc3df88"
      },
      "execution_count": 98,
      "outputs": [
        {
          "output_type": "execute_result",
          "data": {
            "text/plain": [
              "'btc_krw'"
            ],
            "application/vnd.google.colaboratory.intrinsic+json": {
              "type": "string"
            }
          },
          "metadata": {},
          "execution_count": 98
        }
      ]
    },
    {
      "cell_type": "markdown",
      "source": [
        "### 043 capitalize 메서드\n",
        "문자열 'hello'가 있을 때 이를 'Hello'로 변경해보세요."
      ],
      "metadata": {
        "id": "xgagz4ff3Isl"
      }
    },
    {
      "cell_type": "code",
      "source": [
        "a = 'hello'\n",
        "a.capitalize()"
      ],
      "metadata": {
        "colab": {
          "base_uri": "https://localhost:8080/",
          "height": 35
        },
        "id": "wpTrtZxj3FJq",
        "outputId": "a198ddaa-618b-46e0-8151-9100b50654b8"
      },
      "execution_count": 99,
      "outputs": [
        {
          "output_type": "execute_result",
          "data": {
            "text/plain": [
              "'Hello'"
            ],
            "application/vnd.google.colaboratory.intrinsic+json": {
              "type": "string"
            }
          },
          "metadata": {},
          "execution_count": 99
        }
      ]
    },
    {
      "cell_type": "markdown",
      "source": [
        "### 044 endswith 메서드\n",
        "파일 이름이 문자열로 저장되어 있을 때 endswith 메서드를 사용해서 파일 이름이 'xlsx'로 끝나는지 확인해보세요.\n",
        "\n",
        "\n",
        "```\n",
        "file_name = \"보고서.xlsx\"\n",
        "```\n",
        "\n"
      ],
      "metadata": {
        "id": "P6RSDjK13SfJ"
      }
    },
    {
      "cell_type": "code",
      "source": [
        "file_name = \"보고서.xlsx\"\n",
        "file_name.endswith('xlsx')"
      ],
      "metadata": {
        "colab": {
          "base_uri": "https://localhost:8080/"
        },
        "id": "CKzWMYFx3WHI",
        "outputId": "99bae62c-b217-4dc8-f80e-f3b4690f32f0"
      },
      "execution_count": 103,
      "outputs": [
        {
          "output_type": "execute_result",
          "data": {
            "text/plain": [
              "True"
            ]
          },
          "metadata": {},
          "execution_count": 103
        }
      ]
    },
    {
      "cell_type": "markdown",
      "source": [
        "- [파이썬 특정문자 찾기(find,startswith,endswith)](https://dpdpwl.tistory.com/119)"
      ],
      "metadata": {
        "id": "x1mmVe_Q406x"
      }
    },
    {
      "cell_type": "markdown",
      "source": [
        "### 045 endswith 메서드\n",
        "파일 이름이 문자열로 저장되어 있을 때 endswith 메서드를 사용해서 파일 이름이 'xlsx' 또는 'xls'로 끝나는지 확인해보세요.\n",
        "\n",
        "\n",
        "```\n",
        "file_name = \"보고서.xlsx\"\n",
        "```\n",
        "\n"
      ],
      "metadata": {
        "id": "Tv_DJ-XT4oJl"
      }
    },
    {
      "cell_type": "code",
      "source": [
        "file_name.endswith(('xlsx','xls'))"
      ],
      "metadata": {
        "colab": {
          "base_uri": "https://localhost:8080/"
        },
        "id": "XL6awsuW3OhG",
        "outputId": "1dab6c80-b2ab-4b70-deea-60a157dc2dc0"
      },
      "execution_count": 106,
      "outputs": [
        {
          "output_type": "execute_result",
          "data": {
            "text/plain": [
              "True"
            ]
          },
          "metadata": {},
          "execution_count": 106
        }
      ]
    },
    {
      "cell_type": "markdown",
      "source": [
        "### 046 startswith 메서드\n",
        "파일 이름이 문자열로 저장되어 있을 때 startswith 메서드를 사용해서 파일 이름이 '2020'로 시작하는지 확인해보세요.\n",
        "\n",
        "\n",
        "```\n",
        "file_name = \"2020_보고서.xlsx\"\n",
        "```\n",
        "\n"
      ],
      "metadata": {
        "id": "pQIQgFwg5SMg"
      }
    },
    {
      "cell_type": "code",
      "source": [
        "file_name = \"2020_보고서.xlsx\"\n",
        "\n",
        "file_name.startswith('2020')"
      ],
      "metadata": {
        "colab": {
          "base_uri": "https://localhost:8080/"
        },
        "id": "C26V2pCr5XQB",
        "outputId": "73d714ba-c147-4f33-d888-e28e504469b5"
      },
      "execution_count": 108,
      "outputs": [
        {
          "output_type": "execute_result",
          "data": {
            "text/plain": [
              "True"
            ]
          },
          "metadata": {},
          "execution_count": 108
        }
      ]
    },
    {
      "cell_type": "markdown",
      "source": [
        "### 047 split 메서드\n",
        "다음과 같은 문자열이 있을 때 공백을 기준으로 문자열을 나눠보세요.\n",
        "\n",
        "\n",
        "```\n",
        "a = \"hello world\"\n",
        "```\n",
        "\n"
      ],
      "metadata": {
        "id": "qJfewSkL5lc_"
      }
    },
    {
      "cell_type": "code",
      "source": [
        "a = \"hello world\"\n",
        "a.split()"
      ],
      "metadata": {
        "colab": {
          "base_uri": "https://localhost:8080/"
        },
        "id": "GvG_V5-15beA",
        "outputId": "2612d0c7-46b8-4e53-9ee4-5ab6ec9e4e03"
      },
      "execution_count": 109,
      "outputs": [
        {
          "output_type": "execute_result",
          "data": {
            "text/plain": [
              "['hello', 'world']"
            ]
          },
          "metadata": {},
          "execution_count": 109
        }
      ]
    },
    {
      "cell_type": "markdown",
      "source": [
        "### 048 split 메서드\n",
        "다음과 같이 문자열이 있을 때 btc와 krw로 나눠보세요.\n",
        "\n",
        "\n",
        "```\n",
        "ticker = \"btc_krw\"\n",
        "```\n",
        "\n"
      ],
      "metadata": {
        "id": "Cp8PKfZu5wWM"
      }
    },
    {
      "cell_type": "code",
      "source": [
        "ticker = \"btc_krw\"\n",
        "\n",
        "ticker.split('_')"
      ],
      "metadata": {
        "colab": {
          "base_uri": "https://localhost:8080/"
        },
        "id": "yMuhF2Mx5sZR",
        "outputId": "286395c1-9637-4989-d580-08ff0c8de7da"
      },
      "execution_count": 110,
      "outputs": [
        {
          "output_type": "execute_result",
          "data": {
            "text/plain": [
              "['btc', 'krw']"
            ]
          },
          "metadata": {},
          "execution_count": 110
        }
      ]
    },
    {
      "cell_type": "markdown",
      "source": [
        "### 049 split 메서드\n",
        "다음과 같이 날짜를 표현하는 문자열이 있을 때 연도, 월, 일로 나눠보세요.\n",
        "\n",
        "\n",
        "```\n",
        "date = \"2020-05-01\"\n",
        "```\n",
        "\n"
      ],
      "metadata": {
        "id": "bFiK5Ngq6Hoy"
      }
    },
    {
      "cell_type": "code",
      "source": [
        "date = \"2020-05-01\"\n",
        "a, b, c=date.split('-')\n",
        "\n",
        "print(f'연도 : {a}, 월 : {b}, 일 : {c}')"
      ],
      "metadata": {
        "colab": {
          "base_uri": "https://localhost:8080/"
        },
        "id": "9hkWesin52yv",
        "outputId": "c547a1a9-9d46-4188-eff3-4cf0e2201775"
      },
      "execution_count": 112,
      "outputs": [
        {
          "output_type": "stream",
          "name": "stdout",
          "text": [
            "연도 : 2020, 월 : 05, 일 : 01\n"
          ]
        }
      ]
    },
    {
      "cell_type": "code",
      "source": [
        "# <정답>\n",
        "date = \"2020-05-01\"\n",
        "date.split(\"-\")"
      ],
      "metadata": {
        "colab": {
          "base_uri": "https://localhost:8080/"
        },
        "id": "Uzw3UMFf6lj-",
        "outputId": "e30033b9-7d40-4ab2-84d1-1f8f3df405b3"
      },
      "execution_count": 113,
      "outputs": [
        {
          "output_type": "execute_result",
          "data": {
            "text/plain": [
              "['2020', '05', '01']"
            ]
          },
          "metadata": {},
          "execution_count": 113
        }
      ]
    },
    {
      "cell_type": "markdown",
      "source": [
        "### 050 rstrip 메서드\n",
        "문자열의 오른쪽에 공백이 있을 때 이를 제거해보세요.\n",
        "\n",
        "\n",
        "```\n",
        "data = \"039490     \"\n",
        "```\n",
        "\n"
      ],
      "metadata": {
        "id": "-4Dw7XSE6yg8"
      }
    },
    {
      "cell_type": "code",
      "source": [
        "data = \"039490     \"\n",
        "data.rstrip()\n",
        "\n",
        "# <정답>\n",
        "# rstrip() 메서드를 사용하면 오른쪽 공백이 제거된 새로운 문자열 객체가 반환됩니다.\n",
        "# 그 값을 data라는 변수가 새로 바인딩합니다.\n",
        "# 기존의 공백이 포함된 문자열은 메모리에서 자동으로 삭제됩니다."
      ],
      "metadata": {
        "colab": {
          "base_uri": "https://localhost:8080/",
          "height": 35
        },
        "id": "njDh4lK56yAO",
        "outputId": "3933958d-2bef-40a3-f555-d97ee359dbbc"
      },
      "execution_count": 114,
      "outputs": [
        {
          "output_type": "execute_result",
          "data": {
            "text/plain": [
              "'039490'"
            ],
            "application/vnd.google.colaboratory.intrinsic+json": {
              "type": "string"
            }
          },
          "metadata": {},
          "execution_count": 114
        }
      ]
    }
  ]
}